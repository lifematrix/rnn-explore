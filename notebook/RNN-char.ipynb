{
 "cells": [
  {
   "cell_type": "code",
   "execution_count": 24,
   "metadata": {},
   "outputs": [],
   "source": [
    "import tensorflow as tf\n",
    "import numpy as np\n",
    "from dotted_dict import DottedDict\n",
    "import tensorflow.contrib.slim as slim"
   ]
  },
  {
   "cell_type": "code",
   "execution_count": 20,
   "metadata": {},
   "outputs": [],
   "source": [
    "class TextDataset:\n",
    "    def __init__(self, fname):\n",
    "        with open(fname, \"r\") as f:\n",
    "            data = f.read()\n",
    "        chars = sorted(list(set(data)))\n",
    "        self.n_data = len(data)\n",
    "        self.vocab_size = len(chars)\n",
    "        self.dict_char2idx = { c:i for i, c in enumerate(chars) }\n",
    "        self.dict_idx2char = { i:c for i, c in enumerate(chars) }  "
   ]
  },
  {
   "cell_type": "code",
   "execution_count": 21,
   "metadata": {},
   "outputs": [],
   "source": [
    "ds = TextDataset(\"tinyshapespeare.txt\")"
   ]
  },
  {
   "cell_type": "code",
   "execution_count": 22,
   "metadata": {},
   "outputs": [],
   "source": [
    "cfg = DottedDict()\n",
    "cfg.vocab_size = ds.vocab_size\n",
    "cfg.hidden_size = 100\n",
    "cfg.seq_len = 25\n",
    "cfg.learning_rate = 0.1"
   ]
  },
  {
   "cell_type": "code",
   "execution_count": 15,
   "metadata": {},
   "outputs": [
    {
     "data": {
      "text/plain": [
       "DottedDict({'hidden_size': 100, 'seq_len': 25})"
      ]
     },
     "execution_count": 15,
     "metadata": {},
     "output_type": "execute_result"
    }
   ],
   "source": [
    "with tf.Graph().as_default() as g:\n",
    "    Wxh = tf.Variable(tf.random_normal([cfg.hidden_size, cfg.vocab_size], stddev=0.01))\n",
    "    Whh = tf.Variable(tf.random_normal([cfg.hidden_size, cfg.hidden_size], stddev=0.01))\n",
    "    Why = tf.Variable(tf.random_normal([cfg.vocab_size, cfg.hidden_size], stddev=0.01))\n",
    "    bh = tf.Variable(tf.zeros([cfg.hidden_size]))\n",
    "    by = tf.Variable(tf.zeros([cfg.vocab_size]))\n",
    "    \n",
    "    input_x = tf.placeholder([1]. dtype=tf.int64)\n",
    "    input_y = tf.placeholder([1], dtype=tf.int64)\n",
    "    \n",
    "    one_hot_input_x = slim.one_hot_encoding(input_x, cfg.vocab_size)\n",
    "    \n",
    "    \n",
    "    \n",
    "                     "
   ]
  },
  {
   "cell_type": "code",
   "execution_count": 25,
   "metadata": {},
   "outputs": [],
   "source": [
    "?slim.one_hot_encoding"
   ]
  },
  {
   "cell_type": "code",
   "execution_count": 19,
   "metadata": {},
   "outputs": [],
   "source": [
    "?np.random.randn"
   ]
  },
  {
   "cell_type": "code",
   "execution_count": null,
   "metadata": {},
   "outputs": [],
   "source": []
  }
 ],
 "metadata": {
  "kernelspec": {
   "display_name": "Python 3",
   "language": "python",
   "name": "python3"
  },
  "language_info": {
   "codemirror_mode": {
    "name": "ipython",
    "version": 3
   },
   "file_extension": ".py",
   "mimetype": "text/x-python",
   "name": "python",
   "nbconvert_exporter": "python",
   "pygments_lexer": "ipython3",
   "version": "3.7.0"
  }
 },
 "nbformat": 4,
 "nbformat_minor": 2
}
